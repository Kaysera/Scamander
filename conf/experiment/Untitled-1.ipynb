{
 "cells": [
  {
   "cell_type": "code",
   "execution_count": 5,
   "metadata": {},
   "outputs": [],
   "source": [
    "lines = [\n",
    "    '# @package _global_\\n',\n",
    "    'defaults:\\n',\n",
    "    '\\t- override /bb: nn\\n',\n",
    "    '\\t- override /dataset: german\\n'\n",
    "]\n"
   ]
  },
  {
   "cell_type": "code",
   "execution_count": 6,
   "metadata": {},
   "outputs": [],
   "source": [
    "for bb in ['nn', 'svm']:\n",
    "    for ds in ['adult', 'compas', 'fico', 'german']:\n",
    "        for rs in range(100):\n",
    "            lines = [\n",
    "                '# @package _global_\\n',\n",
    "                'defaults:\\n',\n",
    "                f'  - override /bb: {bb}\\n',\n",
    "                f'  - override /dataset: {ds}\\n'\n",
    "                f'  - override /rs: rs{rs}\\n'\n",
    "            ]\n",
    "\n",
    "            with open(f'./{bb}_{ds}_{rs}.yaml', 'w+') as f:\n",
    "                f.writelines(lines)"
   ]
  },
  {
   "cell_type": "code",
   "execution_count": 5,
   "metadata": {},
   "outputs": [],
   "source": [
    "for i in range(100):\n",
    "    with open(f'../rs/rs{i}.yaml', 'w+') as f:\n",
    "        f.writelines(f'value: {i}')"
   ]
  },
  {
   "cell_type": "code",
   "execution_count": null,
   "metadata": {},
   "outputs": [],
   "source": []
  }
 ],
 "metadata": {
  "kernelspec": {
   "display_name": "Python 3.10.0 ('.venv': venv)",
   "language": "python",
   "name": "python3"
  },
  "language_info": {
   "codemirror_mode": {
    "name": "ipython",
    "version": 3
   },
   "file_extension": ".py",
   "mimetype": "text/x-python",
   "name": "python",
   "nbconvert_exporter": "python",
   "pygments_lexer": "ipython3",
   "version": "3.10.0"
  },
  "orig_nbformat": 4,
  "vscode": {
   "interpreter": {
    "hash": "c0f3b5f4380db84d1f76470ec7b4cfc8a2e33d947317d4f6c68f625e2f1aa3a8"
   }
  }
 },
 "nbformat": 4,
 "nbformat_minor": 2
}
