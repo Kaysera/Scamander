{
 "cells": [
  {
   "cell_type": "code",
   "execution_count": 5,
   "metadata": {},
   "outputs": [],
   "source": [
    "COINS = [200, 100, 50, 20, 10, 5, 2, 1]"
   ]
  },
  {
   "cell_type": "code",
   "execution_count": 15,
   "metadata": {},
   "outputs": [],
   "source": []
  },
  {
   "cell_type": "code",
   "execution_count": 18,
   "metadata": {},
   "outputs": [],
   "source": [
    "def return_change(items, wallet):\n",
    "    price = 0\n",
    "    for i, j in items:\n",
    "        price += (i*j)\n",
    "    return wallet - price"
   ]
  },
  {
   "cell_type": "code",
   "execution_count": 19,
   "metadata": {},
   "outputs": [
    {
     "data": {
      "text/plain": [
       "4.91"
      ]
     },
     "execution_count": 19,
     "metadata": {},
     "output_type": "execute_result"
    }
   ],
   "source": [
    "return_change(items, wallet)"
   ]
  },
  {
   "cell_type": "code",
   "execution_count": 57,
   "metadata": {},
   "outputs": [],
   "source": [
    "def generate_change(change):\n",
    "    sol = ''\n",
    "    for coin in COINS:\n",
    "        n_coins = 0\n",
    "        while change >= coin:\n",
    "            n_coins += 1\n",
    "            change -= coin\n",
    "        \n",
    "        if n_coins:\n",
    "            sol += f\"{n_coins}\\n\"\n",
    "    return sol"
   ]
  },
  {
   "cell_type": "code",
   "execution_count": 58,
   "metadata": {},
   "outputs": [],
   "source": [
    "def solve_problem(items, wallet):\n",
    "    change = return_change(items, wallet)\n",
    "    if change < 0:\n",
    "        return 'NO VALIDO'\n",
    "    else:\n",
    "        return generate_change(change * 100)"
   ]
  },
  {
   "cell_type": "code",
   "execution_count": 59,
   "metadata": {},
   "outputs": [],
   "source": [
    "def gen_input(items, wallet):\n",
    "    input = f\"{len(items)}\\n\"\n",
    "    for i, j in items:\n",
    "        input += f\"{i}\\n\"\n",
    "        input += f\"{j}\\n\"\n",
    "    input += f\"{wallet}\\n\"\n",
    "    return input"
   ]
  },
  {
   "cell_type": "code",
   "execution_count": 60,
   "metadata": {},
   "outputs": [],
   "source": [
    "def gen_input_output():\n",
    "    items = [(2.5, 2), (0.09, 1)]\n",
    "    wallet = 10 \n",
    "    print(gen_input(items, wallet))\n",
    "    print(solve_problem(items, wallet))"
   ]
  },
  {
   "cell_type": "code",
   "execution_count": 61,
   "metadata": {},
   "outputs": [
    {
     "name": "stdout",
     "output_type": "stream",
     "text": [
      "2\n",
      "2.5\n",
      "2\n",
      "0.09\n",
      "1\n",
      "10\n",
      "\n",
      "2\n",
      "1\n",
      "2\n",
      "1\n",
      "\n"
     ]
    }
   ],
   "source": [
    "gen_input_output()"
   ]
  },
  {
   "cell_type": "code",
   "execution_count": null,
   "metadata": {},
   "outputs": [],
   "source": []
  }
 ],
 "metadata": {
  "kernelspec": {
   "display_name": "Python 3.10.0 64-bit",
   "language": "python",
   "name": "python3"
  },
  "language_info": {
   "codemirror_mode": {
    "name": "ipython",
    "version": 3
   },
   "file_extension": ".py",
   "mimetype": "text/x-python",
   "name": "python",
   "nbconvert_exporter": "python",
   "pygments_lexer": "ipython3",
   "version": "3.10.0"
  },
  "orig_nbformat": 4,
  "vscode": {
   "interpreter": {
    "hash": "af1ec5f30c0a557b1715a24b6e946100a62ada978fff13c4c858a4775e4b80b4"
   }
  }
 },
 "nbformat": 4,
 "nbformat_minor": 2
}
